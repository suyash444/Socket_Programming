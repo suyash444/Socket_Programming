{
 "cells": [
  {
   "cell_type": "markdown",
   "metadata": {
    "id": "71WGyjiWsk5i"
   },
   "source": [
    "# Free Homework [ Kevin(316685) , Suyash (307798)]\n",
    "\n",
    "# 1 Free Homework\n",
    "\n",
    "# Implementing the Inverse Power and Deflation Methods to determine the      lowest M eigenvalues for a symmetric matrix."
   ]
  },
  {
   "cell_type": "markdown",
   "metadata": {
    "id": "GHIDk4M7tTPW"
   },
   "source": [
    "Importing the necessary libraries\n",
    "the only library that we used in this notebook is **Numpy**"
   ]
  },
  {
   "cell_type": "code",
   "execution_count": 3,
   "metadata": {},
   "outputs": [
    {
     "name": "stdout",
     "output_type": "stream",
     "text": [
      "Requirement already satisfied: nbconvert[webpdf] in c:\\users\\singh\\anaconda3\\lib\\site-packages (6.5.4)\n",
      "Requirement already satisfied: entrypoints>=0.2.2 in c:\\users\\singh\\anaconda3\\lib\\site-packages (from nbconvert[webpdf]) (0.4)\n",
      "Requirement already satisfied: defusedxml in c:\\users\\singh\\anaconda3\\lib\\site-packages (from nbconvert[webpdf]) (0.7.1)\n",
      "Requirement already satisfied: traitlets>=5.0 in c:\\users\\singh\\anaconda3\\lib\\site-packages (from nbconvert[webpdf]) (5.7.1)\n",
      "Requirement already satisfied: MarkupSafe>=2.0 in c:\\users\\singh\\anaconda3\\lib\\site-packages (from nbconvert[webpdf]) (2.1.1)\n",
      "Requirement already satisfied: jupyter-core>=4.7 in c:\\users\\singh\\anaconda3\\lib\\site-packages (from nbconvert[webpdf]) (5.2.0)\n",
      "Requirement already satisfied: jupyterlab-pygments in c:\\users\\singh\\anaconda3\\lib\\site-packages (from nbconvert[webpdf]) (0.1.2)\n",
      "Requirement already satisfied: nbclient>=0.5.0 in c:\\users\\singh\\anaconda3\\lib\\site-packages (from nbconvert[webpdf]) (0.5.13)\n",
      "Requirement already satisfied: pygments>=2.4.1 in c:\\users\\singh\\anaconda3\\lib\\site-packages (from nbconvert[webpdf]) (2.11.2)\n",
      "Requirement already satisfied: tinycss2 in c:\\users\\singh\\anaconda3\\lib\\site-packages (from nbconvert[webpdf]) (1.2.1)\n",
      "Requirement already satisfied: bleach in c:\\users\\singh\\anaconda3\\lib\\site-packages (from nbconvert[webpdf]) (4.1.0)\n",
      "Requirement already satisfied: packaging in c:\\users\\singh\\anaconda3\\lib\\site-packages (from nbconvert[webpdf]) (22.0)\n",
      "Requirement already satisfied: beautifulsoup4 in c:\\users\\singh\\anaconda3\\lib\\site-packages (from nbconvert[webpdf]) (4.11.1)\n",
      "Requirement already satisfied: lxml in c:\\users\\singh\\anaconda3\\lib\\site-packages (from nbconvert[webpdf]) (4.9.1)\n",
      "Requirement already satisfied: jinja2>=3.0 in c:\\users\\singh\\anaconda3\\lib\\site-packages (from nbconvert[webpdf]) (3.1.2)\n",
      "Requirement already satisfied: nbformat>=5.1 in c:\\users\\singh\\anaconda3\\lib\\site-packages (from nbconvert[webpdf]) (5.7.0)\n",
      "Requirement already satisfied: pandocfilters>=1.4.1 in c:\\users\\singh\\anaconda3\\lib\\site-packages (from nbconvert[webpdf]) (1.5.0)\n",
      "Requirement already satisfied: mistune<2,>=0.8.1 in c:\\users\\singh\\anaconda3\\lib\\site-packages (from nbconvert[webpdf]) (0.8.4)\n",
      "Collecting pyppeteer<1.1,>=1\n",
      "  Downloading pyppeteer-1.0.2-py3-none-any.whl (83 kB)\n",
      "     -------------------------------------- 83.4/83.4 kB 360.3 kB/s eta 0:00:00\n",
      "Requirement already satisfied: platformdirs>=2.5 in c:\\users\\singh\\anaconda3\\lib\\site-packages (from jupyter-core>=4.7->nbconvert[webpdf]) (2.5.2)\n",
      "Requirement already satisfied: pywin32>=1.0 in c:\\users\\singh\\anaconda3\\lib\\site-packages (from jupyter-core>=4.7->nbconvert[webpdf]) (305.1)\n",
      "Requirement already satisfied: jupyter-client>=6.1.5 in c:\\users\\singh\\anaconda3\\lib\\site-packages (from nbclient>=0.5.0->nbconvert[webpdf]) (7.3.4)\n",
      "Requirement already satisfied: nest-asyncio in c:\\users\\singh\\anaconda3\\lib\\site-packages (from nbclient>=0.5.0->nbconvert[webpdf]) (1.5.6)\n",
      "Requirement already satisfied: fastjsonschema in c:\\users\\singh\\anaconda3\\lib\\site-packages (from nbformat>=5.1->nbconvert[webpdf]) (2.16.2)\n",
      "Requirement already satisfied: jsonschema>=2.6 in c:\\users\\singh\\anaconda3\\lib\\site-packages (from nbformat>=5.1->nbconvert[webpdf]) (4.17.3)\n",
      "Requirement already satisfied: importlib-metadata>=1.4 in c:\\users\\singh\\anaconda3\\lib\\site-packages (from pyppeteer<1.1,>=1->nbconvert[webpdf]) (4.11.3)\n",
      "Collecting pyee<9.0.0,>=8.1.0\n",
      "  Downloading pyee-8.2.2-py2.py3-none-any.whl (12 kB)\n",
      "Requirement already satisfied: appdirs<2.0.0,>=1.4.3 in c:\\users\\singh\\anaconda3\\lib\\site-packages (from pyppeteer<1.1,>=1->nbconvert[webpdf]) (1.4.4)\n",
      "Requirement already satisfied: certifi>=2021 in c:\\users\\singh\\anaconda3\\lib\\site-packages (from pyppeteer<1.1,>=1->nbconvert[webpdf]) (2022.12.7)\n",
      "Requirement already satisfied: tqdm<5.0.0,>=4.42.1 in c:\\users\\singh\\anaconda3\\lib\\site-packages (from pyppeteer<1.1,>=1->nbconvert[webpdf]) (4.64.1)\n",
      "Requirement already satisfied: urllib3<2.0.0,>=1.25.8 in c:\\users\\singh\\anaconda3\\lib\\site-packages (from pyppeteer<1.1,>=1->nbconvert[webpdf]) (1.26.14)\n",
      "Collecting websockets<11.0,>=10.0\n",
      "  Downloading websockets-10.4-cp310-cp310-win_amd64.whl (101 kB)\n",
      "     -------------------------------------- 101.4/101.4 kB 1.4 MB/s eta 0:00:00\n",
      "Requirement already satisfied: soupsieve>1.2 in c:\\users\\singh\\anaconda3\\lib\\site-packages (from beautifulsoup4->nbconvert[webpdf]) (2.3.2.post1)\n",
      "Requirement already satisfied: webencodings in c:\\users\\singh\\anaconda3\\lib\\site-packages (from bleach->nbconvert[webpdf]) (0.5.1)\n",
      "Requirement already satisfied: six>=1.9.0 in c:\\users\\singh\\anaconda3\\lib\\site-packages (from bleach->nbconvert[webpdf]) (1.16.0)\n",
      "Requirement already satisfied: zipp>=0.5 in c:\\users\\singh\\anaconda3\\lib\\site-packages (from importlib-metadata>=1.4->pyppeteer<1.1,>=1->nbconvert[webpdf]) (3.11.0)\n",
      "Requirement already satisfied: attrs>=17.4.0 in c:\\users\\singh\\anaconda3\\lib\\site-packages (from jsonschema>=2.6->nbformat>=5.1->nbconvert[webpdf]) (22.1.0)\n",
      "Requirement already satisfied: pyrsistent!=0.17.0,!=0.17.1,!=0.17.2,>=0.14.0 in c:\\users\\singh\\anaconda3\\lib\\site-packages (from jsonschema>=2.6->nbformat>=5.1->nbconvert[webpdf]) (0.18.0)\n",
      "Requirement already satisfied: tornado>=6.0 in c:\\users\\singh\\anaconda3\\lib\\site-packages (from jupyter-client>=6.1.5->nbclient>=0.5.0->nbconvert[webpdf]) (6.1)\n",
      "Requirement already satisfied: pyzmq>=23.0 in c:\\users\\singh\\anaconda3\\lib\\site-packages (from jupyter-client>=6.1.5->nbclient>=0.5.0->nbconvert[webpdf]) (23.2.0)\n",
      "Requirement already satisfied: python-dateutil>=2.8.2 in c:\\users\\singh\\anaconda3\\lib\\site-packages (from jupyter-client>=6.1.5->nbclient>=0.5.0->nbconvert[webpdf]) (2.8.2)\n",
      "Requirement already satisfied: colorama in c:\\users\\singh\\anaconda3\\lib\\site-packages (from tqdm<5.0.0,>=4.42.1->pyppeteer<1.1,>=1->nbconvert[webpdf]) (0.4.6)\n",
      "Installing collected packages: pyee, websockets, pyppeteer\n",
      "Successfully installed pyee-8.2.2 pyppeteer-1.0.2 websockets-10.4\n"
     ]
    }
   ],
   "source": [
    "!pip install \"nbconvert[webpdf]\"\n"
   ]
  },
  {
   "cell_type": "code",
   "execution_count": 35,
   "metadata": {
    "id": "BSFgfqsqqsqt"
   },
   "outputs": [],
   "source": [
    "import numpy as np\n"
   ]
  },
  {
   "cell_type": "code",
   "execution_count": 1,
   "metadata": {},
   "outputs": [
    {
     "name": "stderr",
     "output_type": "stream",
     "text": [
      "ERROR: Invalid requirement: \"'nbconvert[webpdf]'\"\n"
     ]
    }
   ],
   "source": [
    "!pip install 'nbconvert[webpdf]'\n"
   ]
  },
  {
   "cell_type": "code",
   "execution_count": 36,
   "metadata": {
    "id": "emJRWMNEtmT5"
   },
   "outputs": [],
   "source": [
    "# To ignore the warnings\n",
    "import warnings\n",
    "warnings.filterwarnings('ignore')  # Suppress warnings for cleaner output"
   ]
  },
  {
   "cell_type": "markdown",
   "metadata": {
    "id": "uzrHb7ImuTmC"
   },
   "source": [
    "\n",
    "To test our program, we've made a **symmetric matrix that's 5x5 in size**. This setup helps us check if our method for finding eigenvalues, specifically the smallest one, works as intended. Alongside, we've prepared an initial guess for both the **eigenvector and eigenvalue, which are crucial for starting the process of the inverse power method**, a technique used to **find the specific eigenvalue we're interested in**. This preparation ensures our method has a solid starting point for accurate and efficient computations"
   ]
  },
  {
   "cell_type": "code",
   "execution_count": 44,
   "metadata": {
    "colab": {
     "base_uri": "https://localhost:8080/"
    },
    "id": "i6gqYn71ufZh",
    "outputId": "4e2619ee-0380-4ce4-d573-92baab95f6c8"
   },
   "outputs": [
    {
     "name": "stdout",
     "output_type": "stream",
     "text": [
      "[0.73429399 0.04264647 0.04686111 0.23303197 0.63442395]\n"
     ]
    }
   ],
   "source": [
    "size = 5  # Size of the matrix\n",
    "\n",
    "# Generate a random matrix\n",
    "matrix = np.random.rand(size, size)\n",
    "\n",
    "# Make the matrix symmetric\n",
    "matrix = (matrix + matrix.T) / 2\n",
    "\n",
    "# Add diagonal dominance\n",
    "diagonal = np.diag(np.sum(np.abs(matrix), axis=1))\n",
    "matrix = matrix + diagonal\n",
    "\n",
    "# Add positive definiteness\n",
    "eigenvalues, _ = np.linalg.eig(matrix)\n",
    "min_eigenvalue = np.min(eigenvalues)\n",
    "matrix = matrix + np.eye(size) * (abs(min_eigenvalue) + 1)\n",
    "\n",
    "\n",
    "# Generate a random initial eigenvector\n",
    "initial_eigenvector = np.random.rand(size)\n",
    "\n",
    "# Normalize the initial eigenvector\n",
    "initial_eigenvector = initial_eigenvector / np.linalg.norm(initial_eigenvector)\n",
    "\n",
    "print(initial_eigenvector)"
   ]
  },
  {
   "cell_type": "markdown",
   "metadata": {
    "id": "m0Is_LqivkSh"
   },
   "source": [
    "# 2 Inverse power method"
   ]
  },
  {
   "cell_type": "markdown",
   "metadata": {
    "id": "HJZCyVjTvmO3"
   },
   "source": [
    "In the following cell, we have implemented the inverse power method.\n",
    "The method takes as input the matrix, the initial eigenvector, the initial eigenvalue, the number of iterations and the tolerance.\n",
    "The method returns the final eigenvalue and eigenvector.\n",
    "The method works as follows:\n",
    "It begins by taking the size of the matrix.\n",
    "The eigenvalue and eigenvector variables are initialized to default values of 0.0 and None, respectively.\n",
    "The algorithm enters a loop that runs for a maximum of max_iterations times.\n",
    "Inside the loop, it attempts to solve the linear system using matrix inversion. It calculates the inverse of the matrix by subtracting the target eigenvalue multiplied by the identity matrix and then using np.linalg.inv to compute the inverse.\n",
    "If the matrix is singular and cannot be inverted, a LinAlgError is caught, and the method returns None value for both the eigenvalue and eigenvector.\n",
    "If the linear system is solvable, the algorithm computes the next eigenvector approximation by multiplying the inverted matrix with the initial eigenvector using np.dot.\n",
    "The next eigenvector is then normalized to ensure it has unit length using np.linalg.norm.\n",
    "To approximate the eigenvalue, the algorithm computes the dot product of the next eigenvector with the matrix product of the matrix and the transposed next eigenvector using np.dot.\n",
    "The algorithm checks for convergence by comparing the absolute difference between the new eigenvalue approximation and the previous eigenvalue with the specified tolerance. If the difference is below the tolerance, the algorithm considers the iteration converged and breaks out of the loop.\n",
    "If convergence is not achieved, the eigenvalue and eigenvector are updated with the new values, and the algorithm proceeds to the next iteration.\n",
    "The initial eigenvector is updated with the next eigenvector for the next iteration.\n",
    "Finally, when the algorithm terminates (either due to convergence or reaching the maximum iterations), it returns the converged eigenvalue and eigenvector."
   ]
  },
  {
   "cell_type": "code",
   "execution_count": 45,
   "metadata": {
    "id": "4_mfVMT7wJIz"
   },
   "outputs": [],
   "source": [
    "def inverse_power_method(matrix, initial_eigenvector ,target_value, max_iterations=100, tolerance=1e-6):\n",
    "    n = matrix.shape[0]\n",
    "\n",
    "\n",
    "    eigenvalue = 0.0  # to initialize eigenvalue with a default value\n",
    "    eigenvector = None\n",
    "\n",
    "    for iteration in range(max_iterations):\n",
    "        # Solving the linear system using LU decomposition\n",
    "        try:\n",
    "            inverted_matrix = np.linalg.inv(matrix - target_value * np.eye(n))\n",
    "            next_vector = np.dot(inverted_matrix, initial_eigenvector)\n",
    "        except np.linalg.LinAlgError:\n",
    "            print(\"Matrix is singular. Inverse power method failed.\")\n",
    "            return None, None\n",
    "\n",
    "        # Normalizing the next vector\n",
    "        next_vector /= np.linalg.norm(next_vector)\n",
    "\n",
    "        # Compute the eigenvalue approximation\n",
    "        eigenvalue_next = np.dot(np.dot(next_vector, matrix), next_vector.transpose())\n",
    "\n",
    "        # Checking for convergence\n",
    "        if np.abs(eigenvalue_next - eigenvalue) < tolerance:\n",
    "            eigenvalue = eigenvalue_next\n",
    "            eigenvector = next_vector\n",
    "            break\n",
    "\n",
    "        # Updating the eigenvalue and eigenvector\n",
    "        eigenvalue = eigenvalue_next\n",
    "        eigenvector = next_vector\n",
    "\n",
    "        # Update the initial vector for the next iteration\n",
    "        initial_eigenvector = next_vector\n",
    "\n",
    "    return eigenvalue, eigenvector"
   ]
  },
  {
   "cell_type": "code",
   "execution_count": 46,
   "metadata": {
    "colab": {
     "base_uri": "https://localhost:8080/"
    },
    "id": "BcL0vXzhwZum",
    "outputId": "6e21fa88-5b72-4c99-9ca9-027c5749c3bf"
   },
   "outputs": [
    {
     "name": "stdout",
     "output_type": "stream",
     "text": [
      "Eigenvalue: 4.100166485120231\n"
     ]
    }
   ],
   "source": [
    "#using the inverse power method to find the smallest eigenvalue\n",
    "eigenvalue, eigenvector = inverse_power_method(matrix, initial_eigenvector, 1e-3)\n",
    "print(\"Eigenvalue:\", eigenvalue)"
   ]
  },
  {
   "cell_type": "markdown",
   "metadata": {
    "id": "MqLJkp-QzSv4"
   },
   "source": [
    "Therefore **np.linalg.eigh** function from NumPy to find all eigenvalues and their corresponding eigenvectors for a matrix, aiming to **verify the accuracy of our inverse power method**. After running this function, it prints out the eigenvalues, allowing us to compare these results with those obtained from our custom implementation to ensure they match up correctly."
   ]
  },
  {
   "cell_type": "code",
   "execution_count": 47,
   "metadata": {
    "colab": {
     "base_uri": "https://localhost:8080/"
    },
    "id": "zfRnawDzzX7I",
    "outputId": "b5a89ded-4c06-443e-ecfc-f9961dcadd0b"
   },
   "outputs": [
    {
     "name": "stdout",
     "output_type": "stream",
     "text": [
      "Eigenvalues: [4.1001623  4.49629312 5.18821985 5.64035572 7.52899054]\n"
     ]
    }
   ],
   "source": [
    "# Calculate the eigenvalues and eigenvectors of the matrix using NumPy's eigh function.\n",
    "eigenvalues, eigenvectors = np.linalg.eigh(matrix)\n",
    "print(\"Eigenvalues:\", eigenvalues)\n"
   ]
  },
  {
   "cell_type": "markdown",
   "metadata": {
    "id": "CYEylEW5zmr2"
   },
   "source": [
    "# 3 Deflation method\n",
    "\n",
    "\n",
    "We first use the power method in order to find the dominant eigenvalue and eigenvector.\n",
    "Then use the output of the power method in the deflation method in order to find the smallest eigenvalue and eigenvector.\n",
    "\n",
    "In this part we first implement the power method.\n",
    "The power_method function implements the power method algorithm to estimate the dominant eigenvalue of a given matrix.\n",
    "The function takes as input the matrix, the initial eigenvector, the number of iterations, and the tolerance.\n",
    "The algorithm works as follows:\n",
    "The function begins by extracting the size of the matrix (assuming it's square) using matrix.shape[0].\n",
    "It initializes the eigenvector randomly using np.random.rand to generate random values between 0 and 1. The eigenvector is then normalized to have unit length using np.linalg.norm.\n",
    "The algorithm enters a loop that runs for a maximum of max_iterations times.\n",
    "Inside the loop, it computes a new eigenvector approximation by multiplying the matrix with the current eigenvector using np.dot. This step essentially represents the power method's iterative process.\n",
    "The new eigenvector is then normalized to have unit length using np.linalg.norm.\n",
    "The algorithm checks for convergence by comparing the norm (Euclidean distance) between the current eigenvector and the new eigenvector with the specified tolerance. If the difference falls below the tolerance, the algorithm considers the iteration converged and breaks out of the loop.\n",
    "If convergence is not achieved, the new eigenvector becomes the current eigenvector, and the algorithm proceeds to the next iteration.\n",
    "After the loop terminates, the estimated dominant eigenvalue is computed using the formula:\n",
    "\n",
    "$$ \\text{eigenvalue} = (\\textbf{new\\_eigenvector}^T) \\cdot \\textbf{matrix} \\cdot \\textbf{new\\_eigenvector} $$\n",
    "\n",
    "where $^T$ denotes the transpose operation and $\\cdot$ represents matrix multiplication.\n",
    "\n",
    "\n"
   ]
  },
  {
   "cell_type": "code",
   "execution_count": 48,
   "metadata": {
    "id": "RPCuFIq91EM5"
   },
   "outputs": [],
   "source": [
    "# The Power Method: A function to find the dominant eigenvalue and corresponding eigenvector\n",
    "def power_method(matrix, tolerance, max_iterations):\n",
    "    # Determine the size of the matrix\n",
    "    size = matrix.shape[0]\n",
    "\n",
    "    # Random initial eigenvector\n",
    "    eigenvector = np.random.rand(size)\n",
    "    eigenvector = eigenvector / np.linalg.norm(eigenvector)\n",
    "\n",
    "    # Begin iterations to converge on the dominant eigenvalue\n",
    "    for _ in range(max_iterations):\n",
    "        new_eigenvector = np.dot(matrix, eigenvector)\n",
    "        new_eigenvector = new_eigenvector / np.linalg.norm(new_eigenvector)\n",
    "\n",
    "        # Check if the current eigenvector is close enough to the new eigenvector\n",
    "        if np.linalg.norm(eigenvector - new_eigenvector) < tolerance:\n",
    "            break\n",
    "         # Update the eigenvector for the next iteration\n",
    "        eigenvector = new_eigenvector\n",
    "\n",
    "     # Compute the eigenvalue corresponding to the converged eigenvector\n",
    "    eigenvalue = np.dot(np.dot(new_eigenvector.T, matrix), new_eigenvector)\n",
    "\n",
    "    # Return the dominant eigenvalue\n",
    "    return eigenvalue"
   ]
  },
  {
   "cell_type": "markdown",
   "metadata": {
    "id": "PPK_25vi2fU1"
   },
   "source": [
    "Now, in the following cell we implement the deflation method in which we use the output of the power method.\n",
    "The deflation function implements the deflation method for reducing the dimensionality of a matrix after computing an eigenvalue and eigenvector pair.\n",
    "The algorithm works as follows:\n",
    "The function begins by extracting the size of the matrix (assuming it's square) using matrix.shape[0].\n",
    "The eigenvector is converted to a NumPy array using np.array.\n",
    "The outer product of the eigenvector is computed using np.outer. This creates a matrix, denoted as P, where each element P[i][j] is the product of the i-th element of the eigenvector and the j-th element of the eigenvector.\n",
    "The matrix is updated with deflation by subtracting the product of the eigenvalue and P from the original matrix. This step modifies the matrix to remove the influence of the computed eigenvalue and eigenvector pair.\n",
    "The row and column corresponding to the computed eigenvector are removed from the matrix using np.delete. This is done to reduce the dimensionality of the matrix after deflation.\n",
    "In the provided code, the row and column with index 0 (assuming zero-based indexing) are removed.\n",
    "The modified matrix, after deflation, is returned as the output of the function."
   ]
  },
  {
   "cell_type": "code",
   "execution_count": 49,
   "metadata": {
    "id": "wygcbCbu2h0s"
   },
   "outputs": [],
   "source": [
    "# Deflation method for updating the matrix to find subsequent eigenvalues\n",
    "def deflation(matrix, eigenvalue, eigenvector):\n",
    "    # Get the size of the matrix\n",
    "    size = matrix.shape[0]\n",
    "\n",
    "    # Ensure the eigenvector is a numpy array for matrix operations\n",
    "    eigenvector = np.array(eigenvector)\n",
    "\n",
    "    # Compute the outer product of the eigenvector with itself\n",
    "    P = np.outer(eigenvector, eigenvector)\n",
    "\n",
    "    # Perform the deflation by subtracting the outer product scaled by the eigenvalue from the matrix\n",
    "    matrix -= eigenvalue * P\n",
    "\n",
    "\n",
    "    # Remove the first row and column to reduce the matrix size for further eigenvalue computations\n",
    "    matrix = np.delete(matrix, (0), axis=0)\n",
    "    matrix = np.delete(matrix, (0), axis=1)\n",
    "\n",
    "    return matrix\n"
   ]
  },
  {
   "cell_type": "markdown",
   "metadata": {
    "id": "40ZWADKG54yf"
   },
   "source": [
    "In the following cell, we create a function to use both the power method and the delation method in order to find the smallest eigenvalue.\n",
    "The function takes as input the matrix, the initial eigenvector, the number of iterations, and the tolerance.\n",
    "The function initializes an empty list called eigenvalues to store the eigenvalues obtained during the iteration.\n",
    "The function enters a loop that continues as long as the dimension of the matrix is greater than 1 (indicating there are more eigenvalues to compute).\n",
    "Inside the loop, the power method is used to compute an eigenvalue estimate by calling the power_method function. The computed eigenvalue is stored in the eigenvalues list.\n",
    "A random eigenvector is generated for the current dimension of the matrix using np.random.rand.\n",
    "The eigenvector is then normalized to have unit length using np.linalg.norm.\n",
    "The deflation method is applied to the matrix by calling the deflation function. The eigenvalue and eigenvector computed in the previous step are used to modify the matrix, removing the influence of the computed eigenvalue-eigenvector pair.\n",
    "The dimension of the matrix is reduced after the deflation, and the loop repeats for the next iteration if the new dimension is still greater than 1.\n",
    "After the loop terminates, the smallest eigenvalue is obtained by finding the minimum value in the eigenvalues list using np.min.\n",
    "The smallest eigenvalue is returned as the output of the function."
   ]
  },
  {
   "cell_type": "code",
   "execution_count": 50,
   "metadata": {
    "id": "bQsHYWZT58PH"
   },
   "outputs": [],
   "source": [
    "# Function to find the smallest eigenvalue using the Power and Deflation methods\n",
    "\n",
    "def find_smallest_eigenvalue(matrix, tolerance, max_iterations):\n",
    "\n",
    "  # Initialize an empty list to store eigenvalues\n",
    "    eigenvalues = []\n",
    "\n",
    "    # Loop until the matrix is reduced to its smallest form\n",
    "    while matrix.shape[0] > 1:\n",
    "\n",
    "        # Use the Power Method to find the current smallest eigenvalue\n",
    "        eigenvalue = power_method(matrix, tolerance, max_iterations)\n",
    "\n",
    "        # Store the found eigenvalue\n",
    "        eigenvalues.append(eigenvalue)\n",
    "\n",
    "        # Generate a random vector for the Deflation method\n",
    "        eigenvector = np.random.rand(matrix.shape[0])\n",
    "\n",
    "        # Normalize the vector\n",
    "        eigenvector = eigenvector / np.linalg.norm(eigenvector)\n",
    "\n",
    "        # Deflate the matrix to find the next smallest eigenvalue in subsequent iterations\n",
    "        matrix = deflation(matrix, eigenvalue, eigenvector)\n",
    "\n",
    "\n",
    "    # Once all eigenvalues are found, determine the smallest one\n",
    "    smallest_eigenvalue = np.min(eigenvalues)\n",
    "    return smallest_eigenvalue"
   ]
  },
  {
   "cell_type": "markdown",
   "metadata": {
    "id": "S5Ko0J5262m5"
   },
   "source": [
    "In the final step, we use the find_smallest_eigenvalue function to determine the matrix's smallest eigenvalue."
   ]
  },
  {
   "cell_type": "code",
   "execution_count": 51,
   "metadata": {
    "colab": {
     "base_uri": "https://localhost:8080/"
    },
    "id": "hlDSvPc662TU",
    "outputId": "561fc106-06d6-4fe4-9725-2adef76f1b93"
   },
   "outputs": [
    {
     "name": "stdout",
     "output_type": "stream",
     "text": [
      "Smallest Eigenvalue: 3.946849251022482\n"
     ]
    }
   ],
   "source": [
    "#therefore we are using the function to find the smallest eigenvalue\n",
    "smallest_eigenvalue = find_smallest_eigenvalue(matrix, tolerance=1e-3, max_iterations=100)\n",
    "print(\"Smallest Eigenvalue:\", smallest_eigenvalue)"
   ]
  }
 ],
 "metadata": {
  "accelerator": "TPU",
  "colab": {
   "provenance": []
  },
  "kernelspec": {
   "display_name": "Python 3 (ipykernel)",
   "language": "python",
   "name": "python3"
  },
  "language_info": {
   "codemirror_mode": {
    "name": "ipython",
    "version": 3
   },
   "file_extension": ".py",
   "mimetype": "text/x-python",
   "name": "python",
   "nbconvert_exporter": "python",
   "pygments_lexer": "ipython3",
   "version": "3.10.9"
  }
 },
 "nbformat": 4,
 "nbformat_minor": 1
}
